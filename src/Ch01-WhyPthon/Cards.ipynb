{
 "cells": [
  {
   "cell_type": "code",
   "execution_count": 4,
   "id": "initial_id",
   "metadata": {
    "collapsed": true,
    "ExecuteTime": {
     "end_time": "2023-08-30T05:19:07.688767Z",
     "start_time": "2023-08-30T05:19:07.682582Z"
    }
   },
   "outputs": [],
   "source": [
    "import random\n",
    "\n",
    "suits = [\"Clubs\", \"Spades\", \"Hearts\", \"Diamonds\"]\n",
    "faces = [\"Jack\", \"Queen\", \"King\", \"Ace\"]\n",
    "numbered = [2, 3, 4, 5, 6, 7, 8, 9, 10]"
   ]
  },
  {
   "cell_type": "code",
   "execution_count": 5,
   "outputs": [],
   "source": [
    "def draw():\n",
    "    the_suit = random.choice(suits)\n",
    "    the_card = random.choice(faces + numbered)\n",
    "    return the_card, \"of\", the_suit"
   ],
   "metadata": {
    "collapsed": false,
    "ExecuteTime": {
     "end_time": "2023-08-30T05:21:45.070297Z",
     "start_time": "2023-08-30T05:21:45.066815Z"
    }
   },
   "id": "287325e3be6114f4"
  },
  {
   "cell_type": "code",
   "execution_count": 6,
   "outputs": [
    {
     "data": {
      "text/plain": "['Clubs', 'Spades', 'Hearts', 'Diamonds']"
     },
     "execution_count": 6,
     "metadata": {},
     "output_type": "execute_result"
    }
   ],
   "source": [
    "suits"
   ],
   "metadata": {
    "collapsed": false,
    "ExecuteTime": {
     "end_time": "2023-08-30T05:21:49.327954Z",
     "start_time": "2023-08-30T05:21:49.317954Z"
    }
   },
   "id": "e13cf15dbe465453"
  },
  {
   "cell_type": "code",
   "execution_count": 7,
   "outputs": [
    {
     "data": {
      "text/plain": "(9, 'of', 'Spades')"
     },
     "execution_count": 7,
     "metadata": {},
     "output_type": "execute_result"
    }
   ],
   "source": [
    "draw()"
   ],
   "metadata": {
    "collapsed": false,
    "ExecuteTime": {
     "end_time": "2023-08-30T05:21:55.710899Z",
     "start_time": "2023-08-30T05:21:55.707286Z"
    }
   },
   "id": "9b0cece013b923c9"
  },
  {
   "cell_type": "code",
   "execution_count": 8,
   "outputs": [
    {
     "data": {
      "text/plain": "(3, 'of', 'Spades')"
     },
     "execution_count": 8,
     "metadata": {},
     "output_type": "execute_result"
    }
   ],
   "source": [
    "draw()"
   ],
   "metadata": {
    "collapsed": false,
    "ExecuteTime": {
     "end_time": "2023-08-30T05:22:37.037163Z",
     "start_time": "2023-08-30T05:22:37.032433Z"
    }
   },
   "id": "2d717abe57f03616"
  },
  {
   "cell_type": "code",
   "execution_count": 9,
   "outputs": [
    {
     "data": {
      "text/plain": "(8, 'of', 'Hearts')"
     },
     "execution_count": 9,
     "metadata": {},
     "output_type": "execute_result"
    }
   ],
   "source": [
    "draw()"
   ],
   "metadata": {
    "collapsed": false,
    "ExecuteTime": {
     "end_time": "2023-08-30T05:22:42.313523Z",
     "start_time": "2023-08-30T05:22:42.309344Z"
    }
   },
   "id": "18f2c9c35a0c1d1"
  },
  {
   "cell_type": "code",
   "execution_count": 11,
   "outputs": [
    {
     "name": "stdout",
     "output_type": "stream",
     "text": [
      "(9, 'of', 'Clubs')\n",
      "('Queen', 'of', 'Clubs')\n",
      "(6, 'of', 'Spades')\n",
      "(10, 'of', 'Hearts')\n",
      "(7, 'of', 'Hearts')\n"
     ]
    }
   ],
   "source": [
    "for _ in range(5):\n",
    "    print(draw())"
   ],
   "metadata": {
    "collapsed": false,
    "ExecuteTime": {
     "end_time": "2023-08-30T05:39:59.603655Z",
     "start_time": "2023-08-30T05:39:59.600396Z"
    }
   },
   "id": "6fe2fe47bb054287"
  },
  {
   "cell_type": "code",
   "execution_count": 13,
   "outputs": [
    {
     "data": {
      "text/plain": "0"
     },
     "execution_count": 13,
     "metadata": {},
     "output_type": "execute_result"
    }
   ],
   "source": [
    "deck = set()"
   ],
   "metadata": {
    "collapsed": false,
    "ExecuteTime": {
     "end_time": "2023-08-30T05:44:11.982744Z",
     "start_time": "2023-08-30T05:44:11.975808Z"
    }
   },
   "id": "91a5f8cb0641cf10"
  },
  {
   "cell_type": "code",
   "execution_count": 14,
   "outputs": [
    {
     "data": {
      "text/plain": "set"
     },
     "execution_count": 14,
     "metadata": {},
     "output_type": "execute_result"
    }
   ],
   "source": [
    "type(deck)"
   ],
   "metadata": {
    "collapsed": false,
    "ExecuteTime": {
     "end_time": "2023-08-30T05:44:17.363148Z",
     "start_time": "2023-08-30T05:44:17.357289Z"
    }
   },
   "id": "8c5f07033a84bffa"
  },
  {
   "cell_type": "code",
   "execution_count": 15,
   "outputs": [
    {
     "data": {
      "text/plain": "0"
     },
     "execution_count": 15,
     "metadata": {},
     "output_type": "execute_result"
    }
   ],
   "source": [
    "len(deck)"
   ],
   "metadata": {
    "collapsed": false,
    "ExecuteTime": {
     "end_time": "2023-08-30T05:44:26.870421Z",
     "start_time": "2023-08-30T05:44:26.863177Z"
    }
   },
   "id": "926d4ddb35466a75"
  },
  {
   "cell_type": "code",
   "execution_count": 17,
   "outputs": [
    {
     "data": {
      "text/plain": "['__and__',\n '__class__',\n '__class_getitem__',\n '__contains__',\n '__delattr__',\n '__dir__',\n '__doc__',\n '__eq__',\n '__format__',\n '__ge__',\n '__getattribute__',\n '__gt__',\n '__hash__',\n '__iand__',\n '__init__',\n '__init_subclass__',\n '__ior__',\n '__isub__',\n '__iter__',\n '__ixor__',\n '__le__',\n '__len__',\n '__lt__',\n '__ne__',\n '__new__',\n '__or__',\n '__rand__',\n '__reduce__',\n '__reduce_ex__',\n '__repr__',\n '__ror__',\n '__rsub__',\n '__rxor__',\n '__setattr__',\n '__sizeof__',\n '__str__',\n '__sub__',\n '__subclasshook__',\n '__xor__',\n 'add',\n 'clear',\n 'copy',\n 'difference',\n 'difference_update',\n 'discard',\n 'intersection',\n 'intersection_update',\n 'isdisjoint',\n 'issubset',\n 'issuperset',\n 'pop',\n 'remove',\n 'symmetric_difference',\n 'symmetric_difference_update',\n 'union',\n 'update']"
     },
     "execution_count": 17,
     "metadata": {},
     "output_type": "execute_result"
    }
   ],
   "source": [
    "dir(deck)"
   ],
   "metadata": {
    "collapsed": false,
    "ExecuteTime": {
     "end_time": "2023-08-30T05:45:13.774678Z",
     "start_time": "2023-08-30T05:45:13.767861Z"
    }
   },
   "id": "c662884c0b5d99eb"
  },
  {
   "cell_type": "code",
   "execution_count": 18,
   "outputs": [
    {
     "name": "stdout",
     "output_type": "stream",
     "text": [
      "Help on built-in function add:\n",
      "\n",
      "add(...) method of builtins.set instance\n",
      "    Add an element to a set.\n",
      "    \n",
      "    This has no effect if the element is already present.\n"
     ]
    }
   ],
   "source": [
    "help(deck.add)"
   ],
   "metadata": {
    "collapsed": false,
    "ExecuteTime": {
     "end_time": "2023-08-30T05:46:33.592208Z",
     "start_time": "2023-08-30T05:46:33.583461Z"
    }
   },
   "id": "192b8bf46f6256eb"
  },
  {
   "cell_type": "code",
   "execution_count": 19,
   "outputs": [],
   "source": [
    "for suit in suits:\n",
    "    for card in faces + numbered:\n",
    "        deck.add((card, \"of\", suit))"
   ],
   "metadata": {
    "collapsed": false,
    "ExecuteTime": {
     "end_time": "2023-08-30T05:47:20.973730Z",
     "start_time": "2023-08-30T05:47:20.969281Z"
    }
   },
   "id": "476a4083ab17f7c6"
  },
  {
   "cell_type": "code",
   "execution_count": 20,
   "outputs": [
    {
     "data": {
      "text/plain": "{('Ace', 'of', 'Clubs'),\n ('Ace', 'of', 'Diamonds'),\n ('Ace', 'of', 'Hearts'),\n ('Ace', 'of', 'Spades'),\n ('Jack', 'of', 'Clubs'),\n ('Jack', 'of', 'Diamonds'),\n ('Jack', 'of', 'Hearts'),\n ('Jack', 'of', 'Spades'),\n ('King', 'of', 'Clubs'),\n ('King', 'of', 'Diamonds'),\n ('King', 'of', 'Hearts'),\n ('King', 'of', 'Spades'),\n ('Queen', 'of', 'Clubs'),\n ('Queen', 'of', 'Diamonds'),\n ('Queen', 'of', 'Hearts'),\n ('Queen', 'of', 'Spades'),\n (10, 'of', 'Clubs'),\n (10, 'of', 'Diamonds'),\n (10, 'of', 'Hearts'),\n (10, 'of', 'Spades'),\n (2, 'of', 'Clubs'),\n (2, 'of', 'Diamonds'),\n (2, 'of', 'Hearts'),\n (2, 'of', 'Spades'),\n (3, 'of', 'Clubs'),\n (3, 'of', 'Diamonds'),\n (3, 'of', 'Hearts'),\n (3, 'of', 'Spades'),\n (4, 'of', 'Clubs'),\n (4, 'of', 'Diamonds'),\n (4, 'of', 'Hearts'),\n (4, 'of', 'Spades'),\n (5, 'of', 'Clubs'),\n (5, 'of', 'Diamonds'),\n (5, 'of', 'Hearts'),\n (5, 'of', 'Spades'),\n (6, 'of', 'Clubs'),\n (6, 'of', 'Diamonds'),\n (6, 'of', 'Hearts'),\n (6, 'of', 'Spades'),\n (7, 'of', 'Clubs'),\n (7, 'of', 'Diamonds'),\n (7, 'of', 'Hearts'),\n (7, 'of', 'Spades'),\n (8, 'of', 'Clubs'),\n (8, 'of', 'Diamonds'),\n (8, 'of', 'Hearts'),\n (8, 'of', 'Spades'),\n (9, 'of', 'Clubs'),\n (9, 'of', 'Diamonds'),\n (9, 'of', 'Hearts'),\n (9, 'of', 'Spades')}"
     },
     "execution_count": 20,
     "metadata": {},
     "output_type": "execute_result"
    }
   ],
   "source": [
    "deck"
   ],
   "metadata": {
    "collapsed": false,
    "ExecuteTime": {
     "end_time": "2023-08-30T05:47:23.955331Z",
     "start_time": "2023-08-30T05:47:23.949755Z"
    }
   },
   "id": "6557963f8c209662"
  },
  {
   "cell_type": "code",
   "execution_count": 21,
   "outputs": [
    {
     "data": {
      "text/plain": "(4, 'of', 'Spades')"
     },
     "execution_count": 21,
     "metadata": {},
     "output_type": "execute_result"
    }
   ],
   "source": [
    "card = random.choice(list(deck))\n",
    "card"
   ],
   "metadata": {
    "collapsed": false,
    "ExecuteTime": {
     "end_time": "2023-08-30T05:48:57.012935Z",
     "start_time": "2023-08-30T05:48:57.007659Z"
    }
   },
   "id": "9e023ceb5fc2d183"
  },
  {
   "cell_type": "code",
   "execution_count": 22,
   "outputs": [
    {
     "data": {
      "text/plain": "51"
     },
     "execution_count": 22,
     "metadata": {},
     "output_type": "execute_result"
    }
   ],
   "source": [
    "deck.remove(card)\n",
    "len(deck)"
   ],
   "metadata": {
    "collapsed": false,
    "ExecuteTime": {
     "end_time": "2023-08-30T05:49:17.424526Z",
     "start_time": "2023-08-30T05:49:17.418145Z"
    }
   },
   "id": "ecc45a4d7c0055b0"
  },
  {
   "cell_type": "code",
   "execution_count": 23,
   "outputs": [
    {
     "data": {
      "text/plain": "tuple"
     },
     "execution_count": 23,
     "metadata": {},
     "output_type": "execute_result"
    }
   ],
   "source": [
    "type(card)"
   ],
   "metadata": {
    "collapsed": false,
    "ExecuteTime": {
     "end_time": "2023-08-30T05:49:44.337903Z",
     "start_time": "2023-08-30T05:49:44.329220Z"
    }
   },
   "id": "ecd8955231393cf2"
  },
  {
   "cell_type": "code",
   "execution_count": 24,
   "outputs": [
    {
     "data": {
      "text/plain": "(4, 'of', 'Spades')"
     },
     "execution_count": 24,
     "metadata": {},
     "output_type": "execute_result"
    }
   ],
   "source": [
    "card"
   ],
   "metadata": {
    "collapsed": false,
    "ExecuteTime": {
     "end_time": "2023-08-30T05:49:46.871256Z",
     "start_time": "2023-08-30T05:49:46.860619Z"
    }
   },
   "id": "39aeac2dea77a647"
  },
  {
   "cell_type": "code",
   "execution_count": 25,
   "outputs": [],
   "source": [
    "def draw():\n",
    "    card = random.choice(list(deck))\n",
    "    deck.remove(card)\n",
    "    return card"
   ],
   "metadata": {
    "collapsed": false,
    "ExecuteTime": {
     "end_time": "2023-08-30T05:50:31.622198Z",
     "start_time": "2023-08-30T05:50:31.615420Z"
    }
   },
   "id": "6b6438733dc9e61b"
  },
  {
   "cell_type": "code",
   "execution_count": 26,
   "outputs": [
    {
     "data": {
      "text/plain": "(10, 'of', 'Hearts')"
     },
     "execution_count": 26,
     "metadata": {},
     "output_type": "execute_result"
    }
   ],
   "source": [
    "card = draw()\n",
    "card"
   ],
   "metadata": {
    "collapsed": false,
    "ExecuteTime": {
     "end_time": "2023-08-30T05:50:43.689293Z",
     "start_time": "2023-08-30T05:50:43.681600Z"
    }
   },
   "id": "1dfe85edaf25f67c"
  },
  {
   "cell_type": "code",
   "execution_count": 27,
   "outputs": [
    {
     "data": {
      "text/plain": "50"
     },
     "execution_count": 27,
     "metadata": {},
     "output_type": "execute_result"
    }
   ],
   "source": [
    "len(deck)"
   ],
   "metadata": {
    "collapsed": false,
    "ExecuteTime": {
     "end_time": "2023-08-30T05:51:41.607569Z",
     "start_time": "2023-08-30T05:51:41.598078Z"
    }
   },
   "id": "189a26d533836f34"
  },
  {
   "cell_type": "code",
   "execution_count": 28,
   "outputs": [
    {
     "data": {
      "text/plain": "False"
     },
     "execution_count": 28,
     "metadata": {},
     "output_type": "execute_result"
    }
   ],
   "source": [
    "card in deck"
   ],
   "metadata": {
    "collapsed": false,
    "ExecuteTime": {
     "end_time": "2023-08-30T06:00:24.413834Z",
     "start_time": "2023-08-30T06:00:24.403100Z"
    }
   },
   "id": "8d395eb58c01a49b"
  },
  {
   "cell_type": "code",
   "execution_count": 29,
   "outputs": [
    {
     "name": "stdout",
     "output_type": "stream",
     "text": [
      "That's card's already taken. :-( \n"
     ]
    }
   ],
   "source": [
    "if card in deck:\n",
    "    print(\"That card's available. :-) \")\n",
    "else:\n",
    "    print(\"That's card's already taken. :-( \")"
   ],
   "metadata": {
    "collapsed": false,
    "ExecuteTime": {
     "end_time": "2023-08-30T06:01:12.236681Z",
     "start_time": "2023-08-30T06:01:12.221629Z"
    }
   },
   "id": "13987900c05c18b3"
  }
 ],
 "metadata": {
  "kernelspec": {
   "display_name": "Python 3",
   "language": "python",
   "name": "python3"
  },
  "language_info": {
   "codemirror_mode": {
    "name": "ipython",
    "version": 2
   },
   "file_extension": ".py",
   "mimetype": "text/x-python",
   "name": "python",
   "nbconvert_exporter": "python",
   "pygments_lexer": "ipython2",
   "version": "2.7.6"
  }
 },
 "nbformat": 4,
 "nbformat_minor": 5
}
