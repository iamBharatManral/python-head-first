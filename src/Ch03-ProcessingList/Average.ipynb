{
 "cells": [
  {
   "cell_type": "code",
   "execution_count": 1,
   "id": "initial_id",
   "metadata": {
    "collapsed": true,
    "ExecuteTime": {
     "end_time": "2023-08-30T12:58:27.455211Z",
     "start_time": "2023-08-30T12:58:27.452873Z"
    }
   },
   "outputs": [],
   "source": [
    "FN = \"Darius-13-100m-Fly.txt\""
   ]
  },
  {
   "cell_type": "code",
   "execution_count": 2,
   "outputs": [],
   "source": [
    "FOLDER = \"swimdata/\""
   ],
   "metadata": {
    "collapsed": false,
    "ExecuteTime": {
     "end_time": "2023-08-30T12:58:37.431994Z",
     "start_time": "2023-08-30T12:58:37.426725Z"
    }
   },
   "id": "fa21e8654ed6296e"
  },
  {
   "cell_type": "code",
   "execution_count": 3,
   "outputs": [],
   "source": [
    "with open(FOLDER + FN) as file:\n",
    "    lines = file.readlines()"
   ],
   "metadata": {
    "collapsed": false,
    "ExecuteTime": {
     "end_time": "2023-08-30T12:59:05.195063Z",
     "start_time": "2023-08-30T12:59:05.189317Z"
    }
   },
   "id": "953370a8ca1dda92"
  },
  {
   "cell_type": "code",
   "execution_count": 4,
   "outputs": [
    {
     "data": {
      "text/plain": "['1:27.95,1:21.07,1:30.96,1:23.22,1:27.95,1:28.30\\n']"
     },
     "execution_count": 4,
     "metadata": {},
     "output_type": "execute_result"
    }
   ],
   "source": [
    "lines"
   ],
   "metadata": {
    "collapsed": false,
    "ExecuteTime": {
     "end_time": "2023-08-30T12:59:08.509316Z",
     "start_time": "2023-08-30T12:59:08.502Z"
    }
   },
   "id": "b117bb4c8fd06fb0"
  },
  {
   "cell_type": "code",
   "execution_count": 5,
   "outputs": [
    {
     "data": {
      "text/plain": "<_io.TextIOWrapper name='swimdata/Darius-13-100m-Fly.txt' mode='r' encoding='UTF-8'>"
     },
     "execution_count": 5,
     "metadata": {},
     "output_type": "execute_result"
    }
   ],
   "source": [
    "file"
   ],
   "metadata": {
    "collapsed": false,
    "ExecuteTime": {
     "end_time": "2023-08-30T13:02:41.283341Z",
     "start_time": "2023-08-30T13:02:41.277622Z"
    }
   },
   "id": "8de59320706a506"
  },
  {
   "cell_type": "code",
   "execution_count": 12,
   "outputs": [],
   "source": [
    "times = lines[0].strip().split(\",\")"
   ],
   "metadata": {
    "collapsed": false,
    "ExecuteTime": {
     "end_time": "2023-08-30T13:10:51.640249Z",
     "start_time": "2023-08-30T13:10:51.620639Z"
    }
   },
   "id": "75f8bae406b16629"
  },
  {
   "cell_type": "code",
   "execution_count": 13,
   "outputs": [
    {
     "data": {
      "text/plain": "['1:27.95', '1:21.07', '1:30.96', '1:23.22', '1:27.95', '1:28.30']"
     },
     "execution_count": 13,
     "metadata": {},
     "output_type": "execute_result"
    }
   ],
   "source": [
    "times"
   ],
   "metadata": {
    "collapsed": false,
    "ExecuteTime": {
     "end_time": "2023-08-30T13:10:52.652122Z",
     "start_time": "2023-08-30T13:10:52.636100Z"
    }
   },
   "id": "90062c259d63a54b"
  },
  {
   "cell_type": "code",
   "execution_count": 14,
   "outputs": [
    {
     "name": "stdout",
     "output_type": "stream",
     "text": [
      "8795\n"
     ]
    }
   ],
   "source": [
    "first = times[0]\n",
    "minutes, rest = first.split(\":\")\n",
    "seconds, hundredths = rest.split(\".\")\n",
    "converted_time = (int(minutes) * 60 * 100 + (int(seconds) * 100) + int(hundredths))\n",
    "print(converted_time)"
   ],
   "metadata": {
    "collapsed": false,
    "ExecuteTime": {
     "end_time": "2023-08-30T13:14:53.924950Z",
     "start_time": "2023-08-30T13:14:53.919037Z"
    }
   },
   "id": "7e01bdaf3477882e"
  },
  {
   "cell_type": "code",
   "execution_count": 17,
   "outputs": [],
   "source": [
    "converts = []\n",
    "for t in times:\n",
    "    minutes, rest = t.split(\":\")\n",
    "    seconds, hundredths = rest.split(\".\")\n",
    "    converted_time = (int(minutes) * 60 * 100 + (int(seconds) * 100) + int(hundredths))\n",
    "    converts.append(converted_time)"
   ],
   "metadata": {
    "collapsed": false,
    "ExecuteTime": {
     "end_time": "2023-08-30T13:19:55.764285Z",
     "start_time": "2023-08-30T13:19:55.756750Z"
    }
   },
   "id": "d4364d7a83e9a8ed"
  },
  {
   "cell_type": "code",
   "execution_count": 19,
   "outputs": [
    {
     "data": {
      "text/plain": "[8795, 8107, 9096, 8322, 8795, 8830]"
     },
     "execution_count": 19,
     "metadata": {},
     "output_type": "execute_result"
    }
   ],
   "source": [
    "converts"
   ],
   "metadata": {
    "collapsed": false,
    "ExecuteTime": {
     "end_time": "2023-08-30T13:20:07.277913Z",
     "start_time": "2023-08-30T13:20:07.271635Z"
    }
   },
   "id": "e43e1db16625aa77"
  },
  {
   "cell_type": "code",
   "execution_count": 21,
   "outputs": [],
   "source": [
    "import statistics"
   ],
   "metadata": {
    "collapsed": false,
    "ExecuteTime": {
     "end_time": "2023-08-30T13:21:14.533133Z",
     "start_time": "2023-08-30T13:21:14.504820Z"
    }
   },
   "id": "c66945a6c5f9dd3f"
  },
  {
   "cell_type": "code",
   "execution_count": 24,
   "outputs": [],
   "source": [
    "average = statistics.mean(converts)"
   ],
   "metadata": {
    "collapsed": false,
    "ExecuteTime": {
     "end_time": "2023-08-30T13:24:04.175836Z",
     "start_time": "2023-08-30T13:24:04.171893Z"
    }
   },
   "id": "3a41d24d92117226"
  },
  {
   "cell_type": "code",
   "execution_count": 30,
   "outputs": [],
   "source": [
    "min_secs, hundredths = str(round(average/100, 2)).split(\".\")"
   ],
   "metadata": {
    "collapsed": false,
    "ExecuteTime": {
     "end_time": "2023-08-30T13:25:06.998426Z",
     "start_time": "2023-08-30T13:25:06.993899Z"
    }
   },
   "id": "b635ded4c7105b"
  },
  {
   "cell_type": "code",
   "execution_count": 33,
   "outputs": [],
   "source": [
    "min_secs = int(min_secs)"
   ],
   "metadata": {
    "collapsed": false,
    "ExecuteTime": {
     "end_time": "2023-08-30T13:25:31.682395Z",
     "start_time": "2023-08-30T13:25:31.676732Z"
    }
   },
   "id": "b4bffec838416802"
  },
  {
   "cell_type": "code",
   "execution_count": 34,
   "outputs": [],
   "source": [
    "minutes = int(min_secs) // 60"
   ],
   "metadata": {
    "collapsed": false,
    "ExecuteTime": {
     "end_time": "2023-08-30T13:25:36.624397Z",
     "start_time": "2023-08-30T13:25:36.622259Z"
    }
   },
   "id": "ecd1c75942c0b092"
  },
  {
   "cell_type": "code",
   "execution_count": 36,
   "outputs": [
    {
     "data": {
      "text/plain": "1"
     },
     "execution_count": 36,
     "metadata": {},
     "output_type": "execute_result"
    }
   ],
   "source": [
    "minutes"
   ],
   "metadata": {
    "collapsed": false,
    "ExecuteTime": {
     "end_time": "2023-08-30T13:25:44.667613Z",
     "start_time": "2023-08-30T13:25:44.661905Z"
    }
   },
   "id": "2221263f13e2820"
  },
  {
   "cell_type": "code",
   "execution_count": 37,
   "outputs": [],
   "source": [
    "seconds = min_secs - minutes * 60"
   ],
   "metadata": {
    "collapsed": false,
    "ExecuteTime": {
     "end_time": "2023-08-30T13:25:53.862049Z",
     "start_time": "2023-08-30T13:25:53.857255Z"
    }
   },
   "id": "e5d95fed39b227f5"
  },
  {
   "cell_type": "code",
   "execution_count": 38,
   "outputs": [
    {
     "data": {
      "text/plain": "26"
     },
     "execution_count": 38,
     "metadata": {},
     "output_type": "execute_result"
    }
   ],
   "source": [
    "seconds"
   ],
   "metadata": {
    "collapsed": false,
    "ExecuteTime": {
     "end_time": "2023-08-30T13:25:58.512512Z",
     "start_time": "2023-08-30T13:25:58.503701Z"
    }
   },
   "id": "1a9a29899f894af9"
  },
  {
   "cell_type": "code",
   "execution_count": 39,
   "outputs": [],
   "source": [
    "average = str(minutes) + \":\" + str(seconds) + \".\" + hundredths"
   ],
   "metadata": {
    "collapsed": false,
    "ExecuteTime": {
     "end_time": "2023-08-30T13:26:33.503689Z",
     "start_time": "2023-08-30T13:26:33.497166Z"
    }
   },
   "id": "28f33b2de8bfcd9d"
  },
  {
   "cell_type": "code",
   "execution_count": 40,
   "outputs": [
    {
     "data": {
      "text/plain": "'1:26.58'"
     },
     "execution_count": 40,
     "metadata": {},
     "output_type": "execute_result"
    }
   ],
   "source": [
    "average"
   ],
   "metadata": {
    "collapsed": false,
    "ExecuteTime": {
     "end_time": "2023-08-30T13:26:36.018569Z",
     "start_time": "2023-08-30T13:26:36.010630Z"
    }
   },
   "id": "a1821b85822fb990"
  },
  {
   "cell_type": "code",
   "execution_count": null,
   "outputs": [],
   "source": [],
   "metadata": {
    "collapsed": false
   },
   "id": "7ce5a6afcb923bc2"
  }
 ],
 "metadata": {
  "kernelspec": {
   "display_name": "Python 3",
   "language": "python",
   "name": "python3"
  },
  "language_info": {
   "codemirror_mode": {
    "name": "ipython",
    "version": 2
   },
   "file_extension": ".py",
   "mimetype": "text/x-python",
   "name": "python",
   "nbconvert_exporter": "python",
   "pygments_lexer": "ipython2",
   "version": "2.7.6"
  }
 },
 "nbformat": 4,
 "nbformat_minor": 5
}
