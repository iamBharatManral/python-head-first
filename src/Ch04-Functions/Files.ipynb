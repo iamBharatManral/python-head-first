{
 "cells": [
  {
   "cell_type": "code",
   "execution_count": 1,
   "id": "initial_id",
   "metadata": {
    "collapsed": true,
    "ExecuteTime": {
     "end_time": "2023-08-31T11:31:52.604255Z",
     "start_time": "2023-08-31T11:31:52.598253Z"
    }
   },
   "outputs": [],
   "source": [
    "import swimclub"
   ]
  },
  {
   "cell_type": "code",
   "execution_count": 2,
   "outputs": [],
   "source": [
    "swimmer, age, distance, stroke, times, average = swimclub.read_swim_data(\"Darius-13-100m-Fly.txt\")"
   ],
   "metadata": {
    "collapsed": false,
    "ExecuteTime": {
     "end_time": "2023-08-31T11:31:52.607595Z",
     "start_time": "2023-08-31T11:31:52.605408Z"
    }
   },
   "id": "cc0f6ec8e2887859"
  },
  {
   "cell_type": "code",
   "execution_count": 3,
   "outputs": [
    {
     "name": "stdout",
     "output_type": "stream",
     "text": [
      "['1:27.95', '1:21.07', '1:30.96', '1:23.22', '1:27.95', '1:28.30']\n"
     ]
    }
   ],
   "source": [
    "print(times)"
   ],
   "metadata": {
    "collapsed": false,
    "ExecuteTime": {
     "end_time": "2023-08-31T11:31:52.611747Z",
     "start_time": "2023-08-31T11:31:52.608462Z"
    }
   },
   "id": "aca1b173f7a8b823"
  },
  {
   "cell_type": "code",
   "execution_count": 4,
   "outputs": [],
   "source": [
    "import os"
   ],
   "metadata": {
    "collapsed": false,
    "ExecuteTime": {
     "end_time": "2023-08-31T11:31:52.613625Z",
     "start_time": "2023-08-31T11:31:52.610835Z"
    }
   },
   "id": "12fba3e019748eff"
  },
  {
   "cell_type": "code",
   "execution_count": 5,
   "outputs": [],
   "source": [
    "swim_files = os.listdir(swimclub.FOLDER)"
   ],
   "metadata": {
    "collapsed": false,
    "ExecuteTime": {
     "end_time": "2023-08-31T11:31:52.615592Z",
     "start_time": "2023-08-31T11:31:52.614045Z"
    }
   },
   "id": "7137ada09fc8e66d"
  },
  {
   "cell_type": "code",
   "execution_count": 6,
   "outputs": [
    {
     "data": {
      "text/plain": "60"
     },
     "execution_count": 6,
     "metadata": {},
     "output_type": "execute_result"
    }
   ],
   "source": [
    "len(swim_files)"
   ],
   "metadata": {
    "collapsed": false,
    "ExecuteTime": {
     "end_time": "2023-08-31T11:31:52.620039Z",
     "start_time": "2023-08-31T11:31:52.617727Z"
    }
   },
   "id": "aed5760be7454de1"
  },
  {
   "cell_type": "code",
   "execution_count": 7,
   "outputs": [
    {
     "data": {
      "text/plain": "['Abi-10-100m-Back.txt',\n 'Abi-10-100m-Breast.txt',\n 'Abi-10-50m-Back.txt',\n 'Abi-10-50m-Breast.txt',\n 'Abi-10-50m-Free.txt',\n 'Ali-12-100m-Back.txt',\n 'Ali-12-100m-Free.txt',\n 'Alison-14-100m-Breast.txt',\n 'Alison-14-100m-Free.txt',\n 'Aurora-13-50m-Free.txt',\n 'Bill-18-100m-Back.txt',\n 'Bill-18-200m-Back.txt',\n 'Blake-15-100m-Back.txt',\n 'Blake-15-100m-Fly.txt',\n 'Blake-15-100m-Free.txt',\n 'Calvin-9-50m-Back.txt',\n 'Calvin-9-50m-Fly.txt',\n 'Calvin-9-50m-Free.txt',\n 'Carl-15-100m-Back.txt',\n 'Chris-17-100m-Back.txt',\n 'Chris-17-100m-Breast.txt',\n 'Darius-13-100m-Back.txt',\n 'Darius-13-100m-Breast.txt',\n 'Darius-13-100m-Fly.txt',\n 'Darius-13-200m-IM.txt',\n 'Dave-17-100m-Free.txt',\n 'Dave-17-200m-Back.txt',\n 'Elba-14-100m-Free.txt',\n 'Emma-13-100m-Breast.txt',\n 'Emma-13-100m-Free.txt',\n 'Erika-15-100m-Breast.txt',\n 'Erika-15-100m-Free.txt',\n 'Erika-15-200m-Breast.txt',\n 'Hannah-13-100m-Back.txt',\n 'Hannah-13-100m-Free.txt',\n 'Katie-9-100m-Back.txt',\n 'Katie-9-100m-Breast.txt',\n 'Katie-9-100m-Free.txt',\n 'Katie-9-50m-Back.txt',\n 'Katie-9-50m-Breast.txt',\n 'Katie-9-50m-Fly.txt',\n 'Katie-9-50m-Free.txt',\n 'Lizzie-14-100m-Back.txt',\n 'Lizzie-14-100m-Free.txt',\n 'Maria-9-50m-Free.txt',\n 'Mike-15-100m-Back.txt',\n 'Mike-15-100m-Fly.txt',\n 'Mike-15-100m-Free.txt',\n 'Mike-15-200m-Free.txt',\n 'Mike-15-200m-IM.txt',\n 'Owen-15-100m-Free.txt',\n 'Ruth-13-100m-Back.txt',\n 'Ruth-13-100m-Free.txt',\n 'Ruth-13-200m-Back.txt',\n 'Ruth-13-200m-Free.txt',\n 'Ruth-13-400m-Free.txt',\n 'Tasmin-15-100m-Back.txt',\n 'Tasmin-15-100m-Breast.txt',\n 'Tasmin-15-100m-Free.txt',\n 'Tasmin-15-200m-Breast.txt']"
     },
     "execution_count": 7,
     "metadata": {},
     "output_type": "execute_result"
    }
   ],
   "source": [
    "sorted(swim_files)"
   ],
   "metadata": {
    "collapsed": false,
    "ExecuteTime": {
     "end_time": "2023-08-31T11:31:52.624014Z",
     "start_time": "2023-08-31T11:31:52.621492Z"
    }
   },
   "id": "2f6a74e7979226e3"
  },
  {
   "cell_type": "code",
   "execution_count": 10,
   "outputs": [
    {
     "name": "stdout",
     "output_type": "stream",
     "text": [
      "1 Processing:  Hannah-13-100m-Free.txt\n",
      "('Hannah', '13', '100m', 'Free', ['1:21.43', '1:21.40', '1:21.62', '1:25.38'], '1:22.46')\n",
      "2 Processing:  Darius-13-100m-Back.txt\n",
      "('Darius', '13', '100m', 'Back', ['1:22.57', '1:29.64', '1:20.39', '1:23.83'], '1:24.11')\n",
      "3 Processing:  Owen-15-100m-Free.txt\n",
      "('Owen', '15', '100m', 'Free', ['1:15.57', '1:14.40', '1:19.82', '1:12.90'], '1:15.67')\n",
      "4 Processing:  Mike-15-100m-Free.txt\n",
      "('Mike', '15', '100m', 'Free', ['1:02.52', '1:02.56', '1:06.41', '1:07.08', '1:02.56', '1:03.23', '1:04.54'], '1:4.13')\n",
      "5 Processing:  Hannah-13-100m-Back.txt\n",
      "('Hannah', '13', '100m', 'Back', ['1:35.75', '1:32.78', '1:34.01', '1:32.57'], '1:33.78')\n",
      "6 Processing:  Mike-15-100m-Back.txt\n",
      "('Mike', '15', '100m', 'Back', ['1:19.23', '1:13.70', '1:13.96', '1:15.94'], '1:15.71')\n",
      "7 Processing:  Mike-15-100m-Fly.txt\n",
      "('Mike', '15', '100m', 'Fly', ['1:14.55', '1:14.15', '1:08.38', '1:08.74', '1:10.89', '1:09.47', '1:09.52', '1:09.86', '1:09.83'], '1:10.6')\n",
      "8 Processing:  Abi-10-50m-Back.txt\n",
      "('Abi', '10', '50m', 'Back', ['41.50', '43.58', '42.35', '43.35', '39.85', '40.53', '42.14', '39.18', '40.89', '40.89'], '0:41.43')\n",
      "9 Processing:  Ruth-13-200m-Free.txt\n",
      "('Ruth', '13', '200m', 'Free', ['2:22.64', '2:28.16', '2:28.38', '2:25.08', '2:25.64', '2:33.58'], '2:27.25')\n",
      "10 Processing:  Tasmin-15-100m-Back.txt\n",
      "('Tasmin', '15', '100m', 'Back', ['1:19.63', '1:16.69', '1:19.68', '1:16.56'], '1:18.14')\n",
      "11 Processing:  Erika-15-100m-Free.txt\n",
      "('Erika', '15', '100m', 'Free', ['1:19.04', '1:15.88', '1:18.62', '1:21.74'], '1:18.82')\n",
      "12 Processing:  Ruth-13-200m-Back.txt\n",
      "('Ruth', '13', '200m', 'Back', ['2:56.68', '2:42.63', '2:40.90', '2:42.88', '2:46.09'], '2:45.84')\n",
      "13 Processing:  Abi-10-50m-Free.txt\n",
      "('Abi', '10', '50m', 'Free', ['39.07', '37.66', '36.13', '39.42'], '0:38.07')\n",
      "14 Processing:  Maria-9-50m-Free.txt\n",
      "('Maria', '9', '50m', 'Free', ['45.75', '41.62', '40.49', '41.00'], '0:42.22')\n",
      "15 Processing:  Elba-14-100m-Free.txt\n",
      "('Elba', '14', '100m', 'Free', ['1:06.01', '1:06.93', '1:05.34', '1:06.10'], '1:6.09')\n",
      "16 Processing:  Tasmin-15-100m-Free.txt\n",
      "('Tasmin', '15', '100m', 'Free', ['1:08.87', '1:07.34', '1:11.00', '1:08.62', '1:10.94', '1:09.52', '1:12.04', '1:10.91'], '1:9.91')\n",
      "17 Processing:  Abi-10-100m-Back.txt\n",
      "('Abi', '10', '100m', 'Back', ['1:31.59', '1:26.55', '1:28.75', '1:39.79', '1:32.37'], '1:31.81')\n",
      "18 Processing:  Abi-10-50m-Breast.txt\n",
      "('Abi', '10', '50m', 'Breast', ['48.08', '53.17', '45.76', '49.28', '52.85', '46.19', '47.76', '48.83', '45.71', '47.76'], '0:48.54')\n",
      "19 Processing:  Mike-15-200m-IM.txt\n",
      "('Mike', '15', '200m', 'IM', ['2:48.05', '2:44.03', '2:38.93', '2:54.86'], '2:46.47')\n",
      "20 Processing:  Ali-12-100m-Back.txt\n",
      "('Ali', '12', '100m', 'Back', ['1:36.54', '1:39.10', '1:39.45', '1:42.87'], '1:39.49')\n",
      "21 Processing:  Ruth-13-100m-Back.txt\n",
      "('Ruth', '13', '100m', 'Back', ['1:17.16', '1:16.65', '1:23.11', '1:14.37', '1:18.16', '1:18.28', '1:16.87', '1:17.37', '1:20.46'], '1:18.05')\n",
      "22 Processing:  Chris-17-100m-Back.txt\n",
      "('Chris', '17', '100m', 'Back', ['1:21.76', '1:23.32', '1:24.09', '1:21.51'], '1:22.67')\n",
      "23 Processing:  Ali-12-100m-Free.txt\n",
      "('Ali', '12', '100m', 'Free', ['1:27.31', '1:27.00', '1:27.46', '1:22.50', '1:20.39', '1:26.04', '1:20.22'], '1:24.42')\n",
      "24 Processing:  Darius-13-100m-Breast.txt\n",
      "('Darius', '13', '100m', 'Breast', ['1:30.24', '1:33.18', '1:32.73', '1:33.05', '1:30.81', '1:31.74', '1:31.53', '1:33.05'], '1:32.04')\n",
      "25 Processing:  Ruth-13-100m-Free.txt\n",
      "('Ruth', '13', '100m', 'Free', ['1:07.99', '1:11.87', '1:11.08', '1:09.75'], '1:10.17')\n",
      "26 Processing:  Aurora-13-50m-Free.txt\n",
      "('Aurora', '13', '50m', 'Free', ['30.05', '30.21', '28.86', '30.65', '30.03', '29.64', '29.82'], '0:29.89')\n",
      "27 Processing:  Katie-9-100m-Breast.txt\n",
      "('Katie', '9', '100m', 'Breast', ['1:50.10', '1:47.12', '1:54.65', '1:51.03'], '1:50.72')\n",
      "28 Processing:  Alison-14-100m-Breast.txt\n",
      "('Alison', '14', '100m', 'Breast', ['1:34.71', '1:37.87', '1:35.15', '1:37.20', '1:36.29', '1:36.00', '1:35.63', '1:35.42', '1:42.01'], '1:36.7')\n",
      "29 Processing:  Ruth-13-400m-Free.txt\n",
      "('Ruth', '13', '400m', 'Free', ['5:11.32', '5:04.12', '5:20.67', '5:08.31', '5:04.32', '5:06.77', '5:13.01'], '5:9.79')\n",
      "30 Processing:  Emma-13-100m-Free.txt\n",
      "('Emma', '13', '100m', 'Free', ['1:32.21', '1:33.68', '1:34.10', '1:28.57'], '1:32.14')\n",
      "31 Processing:  Calvin-9-50m-Fly.txt\n",
      "('Calvin', '9', '50m', 'Fly', ['39.47', '37.30', '41.90', '42.85', '39.90', '38.66', '38.84', '37.65', '39.68', '37.18', '43.61'], '0:39.73')\n",
      "32 Processing:  Darius-13-100m-Fly.txt\n",
      "('Darius', '13', '100m', 'Fly', ['1:27.95', '1:21.07', '1:30.96', '1:23.22', '1:27.95', '1:28.30'], '1:26.58')\n",
      "33 Processing:  Mike-15-200m-Free.txt\n",
      "('Mike', '15', '200m', 'Free', ['2:19.77', '2:41.57', '2:27.88', '2:37.28'], '2:31.62')\n",
      "34 Processing:  Emma-13-100m-Breast.txt\n",
      "('Emma', '13', '100m', 'Breast', ['2:01.15', '1:57.86', '1:59.38', '1:57.94', '1:56.97'], '1:58.66')\n",
      "35 Processing:  Tasmin-15-100m-Breast.txt\n",
      "('Tasmin', '15', '100m', 'Breast', ['1:20.59', '1:26.48', '1:24.15', '1:21.96'], '1:23.3')\n",
      "36 Processing:  Blake-15-100m-Free.txt\n",
      "('Blake', '15', '100m', 'Free', ['1:02.13', '1:03.25', '1:04.16', '1:03.17', '1:04.84', '1:03.88', '1:04.87'], '1:3.76')\n",
      "37 Processing:  Abi-10-100m-Breast.txt\n",
      "('Abi', '10', '100m', 'Breast', ['1:42.97', '1:43.31', '1:43.50', '1:40.34'], '1:42.53')\n",
      "38 Processing:  Chris-17-100m-Breast.txt\n",
      "('Chris', '17', '100m', 'Breast', ['1:28.86', '1:29.90', '1:28.12', '1:28.67'], '1:28.89')\n",
      "39 Processing:  Blake-15-100m-Back.txt\n",
      "('Blake', '15', '100m', 'Back', ['1:12.71', '1:19.87', '1:14.94', '1:11.53', '1:14.94'], '1:14.8')\n",
      "40 Processing:  Bill-18-200m-Back.txt\n",
      "('Bill', '18', '200m', 'Back', ['2:29.06', '2:21.49', '2:24.13', '2:29.40'], '2:26.02')\n",
      "41 Processing:  Darius-13-200m-IM.txt\n",
      "('Darius', '13', '200m', 'IM', ['3:03.84', '3:04.27', '3:01.49', '3:04.27', '2:52.44'], '3:1.26')\n",
      "42 Processing:  Dave-17-100m-Free.txt\n",
      "('Dave', '17', '100m', 'Free', ['59.21', '59.27', '58.67', '59.72', '59.17'], '0:59.21')\n",
      "43 Processing:  Alison-14-100m-Free.txt\n",
      "('Alison', '14', '100m', 'Free', ['1:13.86', '1:12.00', '1:14.69', '1:10.01', '1:12.24', '1:11.00', '1:11.20', '1:12.28', '1:15.46', '1:16.03'], '1:12.88')\n",
      "44 Processing:  Lizzie-14-100m-Free.txt\n",
      "('Lizzie', '14', '100m', 'Free', ['1:21.08', '1:11.23', '1:12.46', '1:16.73'], '1:15.38')\n",
      "45 Processing:  Katie-9-50m-Fly.txt\n",
      "('Katie', '9', '50m', 'Fly', ['40.11', '45.43', '50.17', '43.58', '52.61'], '0:46.38')\n",
      "46 Processing:  Katie-9-50m-Breast.txt\n",
      "('Katie', '9', '50m', 'Breast', ['47.44', '52.32', '57.16', '56.77'], '0:53.42')\n",
      "47 Processing:  Katie-9-50m-Back.txt\n",
      "('Katie', '9', '50m', 'Back', ['43.25', '47.35', '46.12', '45.69'], '0:45.6')\n",
      "48 Processing:  Lizzie-14-100m-Back.txt\n",
      "('Lizzie', '14', '100m', 'Back', ['1:27.10', '1:26.21', '1:26.42', '1:35.79', '1:30.47'], '1:29.2')\n",
      "49 Processing:  Tasmin-15-200m-Breast.txt\n",
      "('Tasmin', '15', '200m', 'Breast', ['2:54.14', '3:03.58', '3:02.43', '2:57.99'], '2:59.53')\n",
      "50 Processing:  Katie-9-50m-Free.txt\n",
      "('Katie', '9', '50m', 'Free', ['38.94', '37.76', '41.83', '42.81'], '0:40.34')\n",
      "51 Processing:  Dave-17-200m-Back.txt\n",
      "('Dave', '17', '200m', 'Back', ['2:35.46', '2:28.30', '2:35.35', '2:28.84'], '2:31.99')\n",
      "52 Processing:  Erika-15-200m-Breast.txt\n",
      "('Erika', '15', '200m', 'Breast', ['3:27.51', '3:34.70', '3:27.15', '3:28.45', '3:34.79', '3:30.21', '3:33.74'], '3:30.94')\n",
      "53 Processing:  Calvin-9-50m-Back.txt\n",
      "('Calvin', '9', '50m', 'Back', ['38.79', '39.03', '41.29', '39.66', '41.13', '38.57', '39.40', '41.06', '40.37', '43.05', '37.85'], '0:40.02')\n",
      "54 Processing:  Calvin-9-50m-Free.txt\n",
      "('Calvin', '9', '50m', 'Free', ['35.78', '36.19', '36.89', '34.29', '34.18', '35.94'], '0:35.55')\n",
      "55 Processing:  Carl-15-100m-Back.txt\n",
      "('Carl', '15', '100m', 'Back', ['1:29.78', '1:28.38', '1:25.03', '1:25.66'], '1:27.21')\n",
      "56 Processing:  Bill-18-100m-Back.txt\n",
      "('Bill', '18', '100m', 'Back', ['1:11.34', '1:05.81', '1:05.75', '1:05.82'], '1:7.18')\n",
      "57 Processing:  Katie-9-100m-Free.txt\n",
      "('Katie', '9', '100m', 'Free', ['1:20.81', '1:23.61', '1:24.80', '1:22.05', '1:22.58', '1:23.94'], '1:22.97')\n",
      "58 Processing:  Blake-15-100m-Fly.txt\n",
      "('Blake', '15', '100m', 'Fly', ['1:11.49', '1:10.16', '1:12.59', '1:11.63', '1:09.43'], '1:11.06')\n",
      "59 Processing:  Erika-15-100m-Breast.txt\n",
      "('Erika', '15', '100m', 'Breast', ['1:36.72', '1:34.78', '1:34.05', '1:32.78', '1:33.51', '1:33.29', '1:36.47', '1:31.82'], '1:34.18')\n",
      "60 Processing:  Katie-9-100m-Back.txt\n",
      "('Katie', '9', '100m', 'Back', ['1:33.36', '1:31.52', '1:28.10', '1:33.37', '1:32.89', '1:33.38', '1:32.03', '1:32.71'], '1:32.17')\n"
     ]
    }
   ],
   "source": [
    "for n, s in enumerate(swim_files, 1):\n",
    "    print(n, 'Processing: ', s)\n",
    "    print(swimclub.read_swim_data(s))"
   ],
   "metadata": {
    "collapsed": false,
    "ExecuteTime": {
     "end_time": "2023-08-31T11:32:58.376542Z",
     "start_time": "2023-08-31T11:32:58.367180Z"
    }
   },
   "id": "7fbe310ad8711f94"
  },
  {
   "cell_type": "code",
   "execution_count": 8,
   "outputs": [],
   "source": [],
   "metadata": {
    "collapsed": false,
    "ExecuteTime": {
     "end_time": "2023-08-31T11:31:52.643294Z",
     "start_time": "2023-08-31T11:31:52.631430Z"
    }
   },
   "id": "5183cd373fd9d441"
  }
 ],
 "metadata": {
  "kernelspec": {
   "display_name": "Python 3",
   "language": "python",
   "name": "python3"
  },
  "language_info": {
   "codemirror_mode": {
    "name": "ipython",
    "version": 2
   },
   "file_extension": ".py",
   "mimetype": "text/x-python",
   "name": "python",
   "nbconvert_exporter": "python",
   "pygments_lexer": "ipython2",
   "version": "2.7.6"
  }
 },
 "nbformat": 4,
 "nbformat_minor": 5
}
